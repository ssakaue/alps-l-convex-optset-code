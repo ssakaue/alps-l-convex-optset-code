{
 "cells": [
  {
   "cell_type": "code",
   "execution_count": 3,
   "metadata": {},
   "outputs": [],
   "source": [
    "import numpy as np\n",
    "\n",
    "n = 10\n",
    "L, R = list(range(0, int(n/2))), list(range(int(n/2), n))\n",
    "\n",
    "T = 1000\n",
    "N_trial = 10\n",
    "\n",
    "noise = 1\n",
    "\n",
    "Wadj_TN = np.zeros([N_trial, T, len(L), len(R)])\n",
    "Wadj_TN = np.zeros([N_trial, T, len(L), len(R)])\n",
    "for tid in range(N_trial):\n",
    "    for t in range(T):\n",
    "        for i in L:\n",
    "            for j in R:\n",
    "                j -= len(L)\n",
    "                if i == j:\n",
    "                    Wadj_TN[tid, t, i, j] = 1\n",
    "                else:\n",
    "                    Wadj_TN[tid, t, i, j] = int((5*(i+1)/(n/2))*(5*(j+1)/(n/2))) + np.random.randint(-noise, noise+1)\n",
    "\n",
    "Wadj_TN = np.clip(np.round(Wadj_TN), 0, None)"
   ]
  },
  {
   "cell_type": "code",
   "execution_count": 4,
   "metadata": {},
   "outputs": [],
   "source": [
    "file_name = 'n{}_T{}_N{}_noise{}'.format(n, T, N_trial, noise)\n",
    "np.savez('data/'+ file_name +'.npz', Wadj_TN = Wadj_TN)"
   ]
  }
 ],
 "metadata": {
  "kernelspec": {
   "display_name": "Python 3.9.12 64-bit ('base')",
   "language": "python",
   "name": "python3"
  },
  "language_info": {
   "codemirror_mode": {
    "name": "ipython",
    "version": 3
   },
   "file_extension": ".py",
   "mimetype": "text/x-python",
   "name": "python",
   "nbconvert_exporter": "python",
   "pygments_lexer": "ipython3",
   "version": "3.9.12"
  },
  "orig_nbformat": 4,
  "vscode": {
   "interpreter": {
    "hash": "29b3878564192ced288e4c3dd0e21525e4896caa299aa62d014e18603dce436a"
   }
  }
 },
 "nbformat": 4,
 "nbformat_minor": 2
}
