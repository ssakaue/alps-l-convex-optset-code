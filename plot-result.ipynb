{
 "cells": [
  {
   "cell_type": "code",
   "execution_count": 10,
   "metadata": {},
   "outputs": [],
   "source": [
    "import numpy as np\n",
    "np.set_printoptions(formatter={'float': '{: 0.11f}'.format})\n",
    "\n",
    "import pandas as pd\n",
    "\n",
    "import matplotlib.pyplot as plt\n",
    "import matplotlib\n",
    "matplotlib.rcParams['ps.useafm']=True\n",
    "matplotlib.rcParams['pdf.use14corefonts']=True\n",
    "matplotlib.rcParams['text.usetex']=True\n",
    "\n",
    "import seaborn as sns\n",
    "sns.set(font_scale=1.8)\n",
    "sns.set_style(\"whitegrid\", {'axes.edgecolor': '.3', 'grid.color': '.4', 'grid.linestyle': '--'})"
   ]
  },
  {
   "cell_type": "code",
   "execution_count": null,
   "metadata": {},
   "outputs": [],
   "source": [
    "# collect results\n",
    "n = 10\n",
    "T = 1000\n",
    "N_trial = 10\n",
    "\n",
    "df = pd.DataFrame(columns=[\"t\", \"obj\", \"rate\", \"iter\", \"noise\"])\n",
    "for noise in [1, 5, 10, 20]:\n",
    "    file_name = 'n{}_T{}_N{}_noise{}'.format(n, T, N_trial, noise)\n",
    "    df_tmp = pd.read_pickle('result/' + file_name +'.pkl')\n",
    "    df_tmp['noise'] = noise\n",
    "    df = pd.concat([df, df_tmp])\n",
    "\n",
    "# plot results\n",
    "plt.clf()\n",
    "\n",
    "g = sns.FacetGrid(df, col='noise', col_wrap=2, height=3.5, aspect=1.15)\n",
    "g.map_dataframe(sns.lineplot, x=\"t\", y=\"iter\", hue=\"obj\", style='rate', errorbar='sd', palette=['#0072B2', '#009E73', '#D55E00', '0.3'])\n",
    "g.set_axis_labels(r\"$t$\", r\"\\rm {\\#}Iteration (average)\")\n",
    "g.set_titles(r'$\\sigma={col_name}$')\n",
    "keydic = {'obj':r'\\rm Method', \n",
    "          'L-1':r'$\\ell_1$',\n",
    "          'L-inf':r'$\\ell_\\infty$', \n",
    "          'mu':r'$\\bar\\mu$', \n",
    "          'cold':r'\\rm Cold', \n",
    "          'rate':r'\\rm $\\rho$ (lr scale)', \n",
    "          '0.01':r'$0.01$', \n",
    "          '0.1':r'$0.1$', \n",
    "          '1.0':r'$1.0$', \n",
    "          '10.0':r'$10.0$',\n",
    "          }\n",
    "g.add_legend(legend_data={keydic[key]:value for key, value in zip(g._legend_data.keys(), g._legend_data.values())}, loc = 'center left', bbox_to_anchor=(.95,0.5))\n",
    "g.fig.tight_layout()\n",
    "\n",
    "#plt.ylim(10, 80) # for n=100\n",
    "\n",
    "plt.show()\n",
    "#plt.savefig('figure/' + file_name + '.pdf', bbox_inches=\"tight\")"
   ]
  }
 ],
 "metadata": {
  "kernelspec": {
   "display_name": "Python 3.9.12 64-bit ('base')",
   "language": "python",
   "name": "python3"
  },
  "language_info": {
   "codemirror_mode": {
    "name": "ipython",
    "version": 3
   },
   "file_extension": ".py",
   "mimetype": "text/x-python",
   "name": "python",
   "nbconvert_exporter": "python",
   "pygments_lexer": "ipython3",
   "version": "3.9.12"
  },
  "orig_nbformat": 4,
  "vscode": {
   "interpreter": {
    "hash": "29b3878564192ced288e4c3dd0e21525e4896caa299aa62d014e18603dce436a"
   }
  }
 },
 "nbformat": 4,
 "nbformat_minor": 2
}
